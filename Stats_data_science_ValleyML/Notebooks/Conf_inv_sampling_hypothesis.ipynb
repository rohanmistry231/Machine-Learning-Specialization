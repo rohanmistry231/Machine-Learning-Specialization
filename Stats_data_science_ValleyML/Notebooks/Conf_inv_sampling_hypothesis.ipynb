{
 "cells": [
  {
   "cell_type": "markdown",
   "metadata": {},
   "source": [
    "# Confidence interval, sampling, hypothesis testing\n",
    "### Dr. Tirthajyoti Sarkar, Fremont, CA 94536\n",
    "\n",
    "In this Notebook, we will examine a multitude of concepts,\n",
    "\n",
    "- confidence interval\n",
    "- sampling methods\n",
    "- Bootstrapping\n",
    "- hypothesis testing using James Bond example\n",
    "\n",
    "---"
   ]
  },
  {
   "cell_type": "code",
   "execution_count": 1,
   "metadata": {},
   "outputs": [],
   "source": [
    "import numpy as np\n",
    "import matplotlib.pyplot as plt\n",
    "import scipy.stats as stats\n",
    "from scipy import mean"
   ]
  },
  {
   "cell_type": "markdown",
   "metadata": {},
   "source": [
    "### Confidence interval\n",
    "\n",
    "We construct confidence interval around mean using standard error of the sample mean.\n",
    "\n",
    "$$ \\mu \\pm t*\\frac{\\sigma}{\\sqrt{(n-1)}} $$\n",
    "\n",
    "where,\n",
    "\n",
    "$\\mu = \\text{sample mean}$, $\\sigma = \\text{sample standard dev}$, $n = \\text{number of samples}$"
   ]
  },
  {
   "cell_type": "code",
   "execution_count": 2,
   "metadata": {},
   "outputs": [],
   "source": [
    "num_weeks = 52\n",
    "production = np.random.normal(loc=20,scale=5,size=num_weeks)"
   ]
  },
  {
   "cell_type": "code",
   "execution_count": 3,
   "metadata": {},
   "outputs": [
    {
     "data": {
      "image/png": "[encoded data removed]",
      "text/plain": [
       "<Figure size 720x288 with 1 Axes>"
      ]
     },
     "metadata": {
      "needs_background": "light"
     },
     "output_type": "display_data"
    }
   ],
   "source": [
    "plt.figure(figsize=(10,4))\n",
    "plt.plot(production,c='blue',lw=2,marker='o',markersize=10)\n",
    "plt.grid(True)\n",
    "plt.xlabel(\"Weeks\",fontsize=15)\n",
    "plt.ylabel(\"Production (tons)\",fontsize=15)\n",
    "plt.hlines(y=production.mean(),xmin=-2,xmax=54,color='red',linestyle='--',lw=3)\n",
    "plt.show()"
   ]
  },
  {
   "cell_type": "code",
   "execution_count": 4,
   "metadata": {},
   "outputs": [],
   "source": [
    "n = len(production)\n",
    "m = production.mean()\n",
    "std_err = stats.sem(production)"
   ]
  },
  {
   "cell_type": "code",
   "execution_count": 5,
   "metadata": {},
   "outputs": [
    {
     "data": {
      "text/plain": [
       "4.418557652666552"
      ]
     },
     "execution_count": 5,
     "metadata": {},
     "output_type": "execute_result"
    }
   ],
   "source": [
    "production.std()"
   ]
  },
  {
   "cell_type": "code",
   "execution_count": 6,
   "metadata": {},
   "outputs": [
    {
     "data": {
      "text/plain": [
       "0.6187218281158524"
      ]
     },
     "execution_count": 6,
     "metadata": {},
     "output_type": "execute_result"
    }
   ],
   "source": [
    "production.std()/np.sqrt(n-1)"
   ]
  },
  {
   "cell_type": "code",
   "execution_count": 7,
   "metadata": {},
   "outputs": [
    {
     "data": {
      "text/plain": [
       "0.6187218281158526"
      ]
     },
     "execution_count": 7,
     "metadata": {},
     "output_type": "execute_result"
    }
   ],
   "source": [
    "std_err"
   ]
  },
  {
   "cell_type": "code",
   "execution_count": 8,
   "metadata": {},
   "outputs": [
    {
     "name": "stdout",
     "output_type": "stream",
     "text": [
      "90% confidence interval of mean from  19.61811644389059  to  21.691187177463245\n"
     ]
    }
   ],
   "source": [
    "confidence = 0.9\n",
    "h = std_err * stats.t.ppf((1 + confidence) / 2, n - 1)\n",
    "i90 =[m-h,m+h]\n",
    "print(\"90% confidence interval of mean from \",m-h,\" to \",m+h)"
   ]
  },
  {
   "cell_type": "code",
   "execution_count": 9,
   "metadata": {},
   "outputs": [
    {
     "name": "stdout",
     "output_type": "stream",
     "text": [
      "99% confidence interval of mean from  18.999124058457745  to  22.31017956289609\n"
     ]
    }
   ],
   "source": [
    "confidence = 0.99\n",
    "h = std_err * stats.t.ppf((1 + confidence) / 2, n - 1)\n",
    "i99 =[m-h,m+h]\n",
    "print(\"99% confidence interval of mean from \",m-h,\" to \",m+h)"
   ]
  },
  {
   "cell_type": "code",
   "execution_count": 10,
   "metadata": {},
   "outputs": [
    {
     "data": {
      "text/plain": [
       "(19.61811644389059, 21.691187177463245)"
      ]
     },
     "execution_count": 10,
     "metadata": {},
     "output_type": "execute_result"
    }
   ],
   "source": [
    "i90[0],i90[1]"
   ]
  },
  {
   "cell_type": "code",
   "execution_count": 11,
   "metadata": {},
   "outputs": [
    {
     "data": {
      "text/plain": [
       "(18.999124058457745, 22.31017956289609)"
      ]
     },
     "execution_count": 11,
     "metadata": {},
     "output_type": "execute_result"
    }
   ],
   "source": [
    "i99[0],i99[1]"
   ]
  },
  {
   "cell_type": "code",
   "execution_count": 12,
   "metadata": {},
   "outputs": [],
   "source": [
    "def repeat(n):\n",
    "    means = []\n",
    "    interval_90 = []\n",
    "    interval_99 = []\n",
    "    \n",
    "    for i in range(n):\n",
    "        num_weeks = 52\n",
    "        production = np.random.normal(loc=20,scale=5,size=num_weeks)\n",
    "        means.append(production.mean())\n",
    "        if i90[0] <= production.mean() <= i90[1]:\n",
    "            interval_90.append(production.mean())\n",
    "        if i99[0] <= production.mean() <= i99[1]:\n",
    "            interval_99.append(production.mean())\n",
    "    return (interval_90,interval_99,np.array(means))"
   ]
  },
  {
   "cell_type": "code",
   "execution_count": 13,
   "metadata": {},
   "outputs": [],
   "source": [
    "repeatations = 500\n",
    "int_90,int_99,_ = repeat(repeatations)"
   ]
  },
  {
   "cell_type": "code",
   "execution_count": 14,
   "metadata": {},
   "outputs": [
    {
     "data": {
      "text/plain": [
       "0.714"
      ]
     },
     "execution_count": 14,
     "metadata": {},
     "output_type": "execute_result"
    }
   ],
   "source": [
    "len(int_90)/repeatations"
   ]
  },
  {
   "cell_type": "code",
   "execution_count": 15,
   "metadata": {},
   "outputs": [
    {
     "data": {
      "text/plain": [
       "0.912"
      ]
     },
     "execution_count": 15,
     "metadata": {},
     "output_type": "execute_result"
    }
   ],
   "source": [
    "len(int_99)/repeatations"
   ]
  },
  {
   "cell_type": "markdown",
   "metadata": {},
   "source": [
    "---"
   ]
  },
  {
   "cell_type": "markdown",
   "metadata": {},
   "source": [
    "### Random choice, shuffling"
   ]
  },
  {
   "cell_type": "code",
   "execution_count": 16,
   "metadata": {},
   "outputs": [
    {
     "data": {
      "text/plain": [
       "array([3, 1, 0, 1, 3, 3, 3, 2, 0, 3, 2, 0])"
      ]
     },
     "execution_count": 16,
     "metadata": {},
     "output_type": "execute_result"
    }
   ],
   "source": [
    "np.random.choice(4, 12)"
   ]
  },
  {
   "cell_type": "code",
   "execution_count": 17,
   "metadata": {},
   "outputs": [
    {
     "data": {
      "text/plain": [
       "array([0, 0, 3, 3, 2, 0, 3, 0, 2, 3, 3, 2])"
      ]
     },
     "execution_count": 17,
     "metadata": {},
     "output_type": "execute_result"
    }
   ],
   "source": [
    "np.random.choice(4, 12, p=[.4, .1, .1, .4])"
   ]
  },
  {
   "cell_type": "code",
   "execution_count": 18,
   "metadata": {},
   "outputs": [
    {
     "data": {
      "text/plain": [
       "array([[0, 9, 0, 3, 0, 9, 1, 0, 9, 9, 3, 2],\n",
       "       [8, 9, 7, 7, 2, 6, 0, 6, 1, 9, 0, 0],\n",
       "       [1, 2, 6, 8, 8, 1, 7, 8, 5, 7, 7, 9],\n",
       "       [0, 9, 1, 0, 4, 7, 5, 8, 9, 9, 5, 0],\n",
       "       [6, 0, 3, 8, 1, 9, 5, 7, 5, 5, 7, 7],\n",
       "       [8, 8, 0, 9, 2, 9, 6, 9, 0, 4, 3, 6],\n",
       "       [8, 4, 2, 7, 0, 9, 9, 7, 0, 1, 5, 9],\n",
       "       [4, 4, 5, 6, 1, 3, 1, 8, 2, 4, 8, 1]])"
      ]
     },
     "execution_count": 18,
     "metadata": {},
     "output_type": "execute_result"
    }
   ],
   "source": [
    "x = np.random.randint(0, 10, (8, 12))\n",
    "x"
   ]
  },
  {
   "cell_type": "code",
   "execution_count": 19,
   "metadata": {},
   "outputs": [
    {
     "data": {
      "text/plain": [
       "array([7, 7, 1, 9, 4, 7, 7, 9, 7, 1, 3, 2])"
      ]
     },
     "execution_count": 19,
     "metadata": {},
     "output_type": "execute_result"
    }
   ],
   "source": [
    "# sampling individual elements\n",
    "np.random.choice(x.ravel(), 12)"
   ]
  },
  {
   "cell_type": "code",
   "execution_count": 20,
   "metadata": {},
   "outputs": [
    {
     "data": {
      "text/plain": [
       "array([[8, 9, 7, 7, 2, 6, 0, 6, 1, 9, 0, 0],\n",
       "       [0, 9, 0, 3, 0, 9, 1, 0, 9, 9, 3, 2],\n",
       "       [8, 9, 7, 7, 2, 6, 0, 6, 1, 9, 0, 0],\n",
       "       [0, 9, 0, 3, 0, 9, 1, 0, 9, 9, 3, 2]])"
      ]
     },
     "execution_count": 20,
     "metadata": {},
     "output_type": "execute_result"
    }
   ],
   "source": [
    "# sampling rows\n",
    "idx = np.random.choice(x.shape[0], 4)\n",
    "x[idx, :]"
   ]
  },
  {
   "cell_type": "code",
   "execution_count": 21,
   "metadata": {},
   "outputs": [
    {
     "data": {
      "text/plain": [
       "array([[9, 2, 3, 1],\n",
       "       [1, 0, 7, 0],\n",
       "       [5, 9, 8, 7],\n",
       "       [9, 0, 0, 5],\n",
       "       [5, 7, 8, 5],\n",
       "       [0, 6, 9, 6],\n",
       "       [0, 9, 7, 9],\n",
       "       [2, 1, 6, 1]])"
      ]
     },
     "execution_count": 21,
     "metadata": {},
     "output_type": "execute_result"
    }
   ],
   "source": [
    "# sampling columns\n",
    "idx = np.random.choice(x.shape[1], 4)\n",
    "x[:, idx]"
   ]
  },
  {
   "cell_type": "code",
   "execution_count": 22,
   "metadata": {},
   "outputs": [
    {
     "data": {
      "text/plain": [
       "array([[0, 9, 0, 3, 0, 9, 1, 0, 9, 9, 3, 2],\n",
       "       [4, 4, 5, 6, 1, 3, 1, 8, 2, 4, 8, 1],\n",
       "       [8, 8, 0, 9, 2, 9, 6, 9, 0, 4, 3, 6],\n",
       "       [8, 9, 7, 7, 2, 6, 0, 6, 1, 9, 0, 0],\n",
       "       [0, 9, 1, 0, 4, 7, 5, 8, 9, 9, 5, 0],\n",
       "       [1, 2, 6, 8, 8, 1, 7, 8, 5, 7, 7, 9],\n",
       "       [6, 0, 3, 8, 1, 9, 5, 7, 5, 5, 7, 7],\n",
       "       [8, 4, 2, 7, 0, 9, 9, 7, 0, 1, 5, 9]])"
      ]
     },
     "execution_count": 22,
     "metadata": {},
     "output_type": "execute_result"
    }
   ],
   "source": [
    "# Shuffling occurs \"in place\" for efficiency and only along the first axis for multi-dimensional arrays\n",
    "np.random.shuffle(x)\n",
    "x"
   ]
  },
  {
   "cell_type": "code",
   "execution_count": 23,
   "metadata": {},
   "outputs": [
    {
     "data": {
      "text/plain": [
       "array([[0, 0, 3, 9, 0, 9, 3, 9, 2, 9, 1, 0],\n",
       "       [5, 8, 6, 4, 1, 4, 8, 2, 1, 3, 1, 4],\n",
       "       [0, 9, 9, 8, 2, 4, 3, 0, 6, 9, 6, 8],\n",
       "       [7, 6, 7, 9, 2, 9, 0, 1, 0, 6, 0, 8],\n",
       "       [1, 8, 0, 9, 4, 9, 5, 9, 0, 7, 5, 0],\n",
       "       [6, 8, 8, 2, 8, 7, 7, 5, 9, 1, 7, 1],\n",
       "       [3, 7, 8, 0, 1, 5, 7, 5, 7, 9, 5, 6],\n",
       "       [2, 7, 7, 4, 0, 1, 5, 0, 9, 9, 9, 8]])"
      ]
     },
     "execution_count": 23,
     "metadata": {},
     "output_type": "execute_result"
    }
   ],
   "source": [
    "# To shuffle columns instead, transpose before shuffling\n",
    "np.random.shuffle(x.T)\n",
    "x"
   ]
  },
  {
   "cell_type": "markdown",
   "metadata": {},
   "source": [
    "### Bootstrapping example (300 samples)"
   ]
  },
  {
   "cell_type": "code",
   "execution_count": 24,
   "metadata": {},
   "outputs": [
    {
     "data": {
      "image/png": "[encoded data removed]",
      "text/plain": [
       "<Figure size 432x288 with 1 Axes>"
      ]
     },
     "metadata": {
      "needs_background": "light"
     },
     "output_type": "display_data"
    }
   ],
   "source": [
    "x = np.concatenate([np.random.exponential(size=200), np.random.normal(size=100)])\n",
    "plt.hist(x, 25, histtype='step');"
   ]
  },
  {
   "cell_type": "code",
   "execution_count": 25,
   "metadata": {},
   "outputs": [],
   "source": [
    "n = len(x)\n",
    "reps = 10000\n",
    "\n",
    "# Bootstrapping n-samples from array x with replacements many times (reps=10000) \n",
    "xb = np.random.choice(x, (n, reps))\n",
    "# Mean of the bootstrappen arrays\n",
    "mb = xb.mean(axis=0)\n",
    "# Sort the array of means\n",
    "mb.sort()"
   ]
  },
  {
   "cell_type": "code",
   "execution_count": 26,
   "metadata": {},
   "outputs": [
    {
     "data": {
      "text/plain": [
       "array([0.56481787, 0.79779849])"
      ]
     },
     "execution_count": 26,
     "metadata": {},
     "output_type": "execute_result"
    }
   ],
   "source": [
    "# Compute percentile for 90% confidence interval\n",
    "np.percentile(mb, [5, 95])"
   ]
  },
  {
   "cell_type": "code",
   "execution_count": 27,
   "metadata": {},
   "outputs": [
    {
     "data": {
      "text/plain": [
       "array([0.49907621, 0.8697957 ])"
      ]
     },
     "execution_count": 27,
     "metadata": {},
     "output_type": "execute_result"
    }
   ],
   "source": [
    "# Compute percentile for 99% confidence interval\n",
    "np.percentile(mb, [0.5, 99.5])"
   ]
  },
  {
   "cell_type": "markdown",
   "metadata": {},
   "source": [
    "### Same underlying process but only 30 samples"
   ]
  },
  {
   "cell_type": "code",
   "execution_count": 28,
   "metadata": {},
   "outputs": [],
   "source": [
    "x = np.concatenate([np.random.exponential(size=20), np.random.normal(size=10)])"
   ]
  },
  {
   "cell_type": "code",
   "execution_count": 29,
   "metadata": {},
   "outputs": [],
   "source": [
    "n = len(x)\n",
    "reps = 10000\n",
    "\n",
    "# Bootstrapping n-samples from array x with replacements many times (reps=10000) \n",
    "xb = np.random.choice(x, (n, reps))\n",
    "# Mean of the bootstrappen arrays\n",
    "mb = xb.mean(axis=0)\n",
    "# Sort the array of means\n",
    "mb.sort()"
   ]
  },
  {
   "cell_type": "code",
   "execution_count": 30,
   "metadata": {},
   "outputs": [
    {
     "data": {
      "text/plain": [
       "array([0.26579967, 0.95020292])"
      ]
     },
     "execution_count": 30,
     "metadata": {},
     "output_type": "execute_result"
    }
   ],
   "source": [
    "# Compute percentile for 90% confidence interval\n",
    "np.percentile(mb, [5, 95])"
   ]
  },
  {
   "cell_type": "code",
   "execution_count": 31,
   "metadata": {},
   "outputs": [
    {
     "data": {
      "text/plain": [
       "array([0.09548716, 1.16203742])"
      ]
     },
     "execution_count": 31,
     "metadata": {},
     "output_type": "execute_result"
    }
   ],
   "source": [
    "# Compute percentile for 99% confidence interval\n",
    "np.percentile(mb, [0.5, 99.5])"
   ]
  },
  {
   "cell_type": "markdown",
   "metadata": {},
   "source": [
    "---"
   ]
  },
  {
   "cell_type": "markdown",
   "metadata": {},
   "source": [
    "### Let us simulate James Bond's Martini guessing!\n",
    "\n",
    "![bond_martini](https://raw.githubusercontent.com/tirthajyoti/Stats-Maths-with-Python/master/images/bond_martini.PNG)\n",
    "\n",
    "Suppose we gave Mr. Bond a series of 16 taste tests. In each test, we flipped a fair coin to determine whether to stir or shake the martini.\n",
    "\n",
    "Then we presented the martini to Mr. Bond and asked him to decide whether it was shaken or stirred. Let's say Mr. Bond was correct on 13 of the 16 taste tests.\n",
    "\n",
    "**Does this prove that Mr. Bond has at least some ability to tell whether the martini was shaken or stirred?**"
   ]
  },
  {
   "cell_type": "code",
   "execution_count": 32,
   "metadata": {},
   "outputs": [],
   "source": [
    "martini = ['shaken','stirred']"
   ]
  },
  {
   "cell_type": "code",
   "execution_count": 33,
   "metadata": {},
   "outputs": [],
   "source": [
    "glasses = []\n",
    "for _ in range(16):\n",
    "    glasses.append(np.random.choice(martini))    "
   ]
  },
  {
   "cell_type": "code",
   "execution_count": 34,
   "metadata": {},
   "outputs": [
    {
     "name": "stdout",
     "output_type": "stream",
     "text": [
      "stirred, shaken, shaken, stirred, stirred, stirred, stirred, stirred, stirred, shaken, shaken, shaken, shaken, stirred, shaken, stirred, "
     ]
    }
   ],
   "source": [
    "for g in glasses:\n",
    "    print(g,end=', ')"
   ]
  },
  {
   "cell_type": "markdown",
   "metadata": {},
   "source": [
    "### A function to generate Mr. Bond's response (when he is randomly guessing)"
   ]
  },
  {
   "cell_type": "code",
   "execution_count": 35,
   "metadata": {},
   "outputs": [],
   "source": [
    "def bond_guess(n,verbose=True):\n",
    "    score=[]\n",
    "    for _ in range(n):\n",
    "        bond_answers = []\n",
    "        for _ in range(16):\n",
    "            bond_answers.append(np.random.choice(martini))\n",
    "        if verbose:\n",
    "            print(\"My name is Bond...James Bond, and I say the glasses are as follows:\",bond_answers)\n",
    "        correct_guess = np.sum(np.array(bond_answers)==np.array(glasses))\n",
    "        if verbose:\n",
    "            print(\"\\nMr. James Bond gave {} correct answers\".format(correct_guess))\n",
    "            print(\"-\"*100)\n",
    "        score.append(correct_guess)\n",
    "    return np.array(score)"
   ]
  },
  {
   "cell_type": "markdown",
   "metadata": {},
   "source": [
    "### Print 5 typical responses when Mr. Bond is randomly guessing "
   ]
  },
  {
   "cell_type": "code",
   "execution_count": 36,
   "metadata": {},
   "outputs": [
    {
     "name": "stdout",
     "output_type": "stream",
     "text": [
      "My name is Bond...James Bond, and I say the glasses are as follows: ['shaken', 'stirred', 'stirred', 'stirred', 'shaken', 'stirred', 'shaken', 'shaken', 'stirred', 'stirred', 'shaken', 'stirred', 'stirred', 'shaken', 'stirred', 'shaken']\n",
      "\n",
      "Mr. James Bond gave 4 correct answers\n",
      "----------------------------------------------------------------------------------------------------\n",
      "My name is Bond...James Bond, and I say the glasses are as follows: ['stirred', 'stirred', 'stirred', 'stirred', 'shaken', 'shaken', 'shaken', 'shaken', 'shaken', 'shaken', 'shaken', 'shaken', 'stirred', 'stirred', 'shaken', 'stirred']\n",
      "\n",
      "Mr. James Bond gave 8 correct answers\n",
      "----------------------------------------------------------------------------------------------------\n",
      "My name is Bond...James Bond, and I say the glasses are as follows: ['shaken', 'shaken', 'stirred', 'stirred', 'shaken', 'stirred', 'shaken', 'shaken', 'stirred', 'shaken', 'stirred', 'shaken', 'shaken', 'shaken', 'shaken', 'stirred']\n",
      "\n",
      "Mr. James Bond gave 9 correct answers\n",
      "----------------------------------------------------------------------------------------------------\n",
      "My name is Bond...James Bond, and I say the glasses are as follows: ['stirred', 'stirred', 'shaken', 'stirred', 'shaken', 'stirred', 'stirred', 'shaken', 'stirred', 'stirred', 'shaken', 'stirred', 'shaken', 'stirred', 'shaken', 'stirred']\n",
      "\n",
      "Mr. James Bond gave 11 correct answers\n",
      "----------------------------------------------------------------------------------------------------\n",
      "My name is Bond...James Bond, and I say the glasses are as follows: ['shaken', 'stirred', 'shaken', 'shaken', 'stirred', 'shaken', 'shaken', 'shaken', 'stirred', 'shaken', 'shaken', 'stirred', 'stirred', 'shaken', 'shaken', 'stirred']\n",
      "\n",
      "Mr. James Bond gave 7 correct answers\n",
      "----------------------------------------------------------------------------------------------------\n"
     ]
    }
   ],
   "source": [
    "_=bond_guess(5)"
   ]
  },
  {
   "cell_type": "markdown",
   "metadata": {},
   "source": [
    "### Compute the probability of score >=13"
   ]
  },
  {
   "cell_type": "code",
   "execution_count": 37,
   "metadata": {},
   "outputs": [
    {
     "name": "stdout",
     "output_type": "stream",
     "text": [
      "0.0119\n"
     ]
    }
   ],
   "source": [
    "score = bond_guess(10000,verbose=False)\n",
    "print(np.sum(score>=13)/10000)"
   ]
  },
  {
   "cell_type": "markdown",
   "metadata": {},
   "source": [
    "### Show probabilities of all the correct guesses (1-16) "
   ]
  },
  {
   "cell_type": "code",
   "execution_count": 44,
   "metadata": {},
   "outputs": [
    {
     "name": "stdout",
     "output_type": "stream",
     "text": [
      "Probability of answering 0 correct: 0.0\n",
      "Probability of answering 1 correct: 0.00034\n",
      "Probability of answering 2 correct: 0.00218\n",
      "Probability of answering 3 correct: 0.0085\n",
      "Probability of answering 4 correct: 0.02798\n",
      "Probability of answering 5 correct: 0.06788\n",
      "Probability of answering 6 correct: 0.12243\n",
      "Probability of answering 7 correct: 0.17548\n",
      "Probability of answering 8 correct: 0.19445\n",
      "Probability of answering 9 correct: 0.17369\n",
      "Probability of answering 10 correct: 0.12331\n",
      "Probability of answering 11 correct: 0.06595\n",
      "Probability of answering 12 correct: 0.02695\n",
      "Probability of answering 13 correct: 0.00883\n",
      "Probability of answering 14 correct: 0.00187\n",
      "Probability of answering 15 correct: 0.00015\n",
      "Probability of answering 16 correct: 1e-05\n"
     ]
    }
   ],
   "source": [
    "score = bond_guess(100000,verbose=False)\n",
    "for i in range(17):\n",
    "    print(f\"Probability of answering {i} correct: {np.sum(score==i)/100000}\")"
   ]
  },
  {
   "cell_type": "markdown",
   "metadata": {},
   "source": [
    "### Show probabilities of _at least_ certain number of correct guesses"
   ]
  },
  {
   "cell_type": "code",
   "execution_count": 39,
   "metadata": {},
   "outputs": [
    {
     "name": "stdout",
     "output_type": "stream",
     "text": [
      "Probability of answering at least 1 correct: 0.99999\n",
      "Probability of answering at least 2 correct: 0.99978\n",
      "Probability of answering at least 3 correct: 0.99795\n",
      "Probability of answering at least 4 correct: 0.98931\n",
      "Probability of answering at least 5 correct: 0.96144\n",
      "Probability of answering at least 6 correct: 0.8959\n",
      "Probability of answering at least 7 correct: 0.77334\n",
      "Probability of answering at least 8 correct: 0.59824\n",
      "Probability of answering at least 9 correct: 0.40365\n",
      "Probability of answering at least 10 correct: 0.2277\n",
      "Probability of answering at least 11 correct: 0.10599\n",
      "Probability of answering at least 12 correct: 0.03911\n",
      "Probability of answering at least 13 correct: 0.01085\n",
      "Probability of answering at least 14 correct: 0.00215\n",
      "Probability of answering at least 15 correct: 0.00034\n",
      "Probability of answering at least 16 correct: 0.0\n"
     ]
    }
   ],
   "source": [
    "score = bond_guess(100000,verbose=False)\n",
    "for i in range(1,17):\n",
    "    print(f\"Probability of answering at least {i} correct: {np.sum(score>=i)/100000}\")"
   ]
  },
  {
   "cell_type": "markdown",
   "metadata": {},
   "source": [
    "### A function to generate Mr. Bond's response (when he has a certain level of skill to identify correct glass and guesses otherwise)"
   ]
  },
  {
   "cell_type": "code",
   "execution_count": 40,
   "metadata": {},
   "outputs": [],
   "source": [
    "def bond_knows(n,skill=0.8,verbose=True):\n",
    "    score=[]\n",
    "    for _ in range(n):\n",
    "        bond_answers = []\n",
    "        for i in range(16):\n",
    "            c=np.random.uniform()\n",
    "            if c>=skill:\n",
    "                bond_answers.append(np.random.choice(martini))\n",
    "            else:\n",
    "                bond_answers.append(glasses[i])\n",
    "        if verbose:\n",
    "            print(\"My name is Bond...James Bond, and I say the glasses are as follows:\",bond_answers)\n",
    "        correct_guess = np.sum(np.array(bond_answers)==np.array(glasses))\n",
    "        if verbose:\n",
    "            print(\"\\nMr. James Bond gave {} correct answers\".format(correct_guess))\n",
    "            print(\"-\"*100)\n",
    "        score.append(correct_guess)\n",
    "    return np.array(score)"
   ]
  },
  {
   "cell_type": "code",
   "execution_count": 41,
   "metadata": {},
   "outputs": [
    {
     "name": "stdout",
     "output_type": "stream",
     "text": [
      "My name is Bond...James Bond, and I say the glasses are as follows: ['stirred', 'shaken', 'shaken', 'shaken', 'stirred', 'stirred', 'stirred', 'stirred', 'stirred', 'shaken', 'shaken', 'shaken', 'shaken', 'stirred', 'shaken', 'stirred']\n",
      "\n",
      "Mr. James Bond gave 15 correct answers\n",
      "----------------------------------------------------------------------------------------------------\n",
      "My name is Bond...James Bond, and I say the glasses are as follows: ['stirred', 'shaken', 'shaken', 'stirred', 'stirred', 'stirred', 'stirred', 'stirred', 'stirred', 'shaken', 'shaken', 'shaken', 'shaken', 'stirred', 'shaken', 'stirred']\n",
      "\n",
      "Mr. James Bond gave 16 correct answers\n",
      "----------------------------------------------------------------------------------------------------\n",
      "My name is Bond...James Bond, and I say the glasses are as follows: ['stirred', 'shaken', 'shaken', 'stirred', 'stirred', 'stirred', 'stirred', 'stirred', 'stirred', 'stirred', 'shaken', 'stirred', 'shaken', 'stirred', 'shaken', 'stirred']\n",
      "\n",
      "Mr. James Bond gave 14 correct answers\n",
      "----------------------------------------------------------------------------------------------------\n",
      "My name is Bond...James Bond, and I say the glasses are as follows: ['shaken', 'shaken', 'shaken', 'stirred', 'stirred', 'stirred', 'stirred', 'stirred', 'stirred', 'shaken', 'shaken', 'stirred', 'shaken', 'stirred', 'shaken', 'stirred']\n",
      "\n",
      "Mr. James Bond gave 14 correct answers\n",
      "----------------------------------------------------------------------------------------------------\n",
      "My name is Bond...James Bond, and I say the glasses are as follows: ['stirred', 'shaken', 'shaken', 'stirred', 'stirred', 'stirred', 'stirred', 'stirred', 'stirred', 'shaken', 'shaken', 'shaken', 'shaken', 'stirred', 'shaken', 'stirred']\n",
      "\n",
      "Mr. James Bond gave 16 correct answers\n",
      "----------------------------------------------------------------------------------------------------\n"
     ]
    }
   ],
   "source": [
    "_=bond_knows(5)"
   ]
  },
  {
   "cell_type": "code",
   "execution_count": 42,
   "metadata": {},
   "outputs": [
    {
     "name": "stdout",
     "output_type": "stream",
     "text": [
      "Probability of answering at least 1 correct with 90% skill: 1.0\n",
      "Probability of answering at least 2 correct with 90% skill: 1.0\n",
      "Probability of answering at least 3 correct with 90% skill: 1.0\n",
      "Probability of answering at least 4 correct with 90% skill: 1.0\n",
      "Probability of answering at least 5 correct with 90% skill: 1.0\n",
      "Probability of answering at least 6 correct with 90% skill: 1.0\n",
      "Probability of answering at least 7 correct with 90% skill: 1.0\n",
      "Probability of answering at least 8 correct with 90% skill: 1.0\n",
      "Probability of answering at least 9 correct with 90% skill: 1.0\n",
      "Probability of answering at least 10 correct with 90% skill: 0.99999\n",
      "Probability of answering at least 11 correct with 90% skill: 0.99996\n",
      "Probability of answering at least 12 correct with 90% skill: 0.99914\n",
      "Probability of answering at least 13 correct with 90% skill: 0.9929\n",
      "Probability of answering at least 14 correct with 90% skill: 0.95676\n",
      "Probability of answering at least 15 correct with 90% skill: 0.80996\n",
      "Probability of answering at least 16 correct with 90% skill: 0.44018\n"
     ]
    }
   ],
   "source": [
    "score = bond_knows(100000,skill=0.9,verbose=False)\n",
    "for i in range(1,17):\n",
    "    print(f\"Probability of answering at least {i} correct with 90% skill: {np.sum(score>=i)/100000}\")"
   ]
  },
  {
   "cell_type": "code",
   "execution_count": 43,
   "metadata": {},
   "outputs": [
    {
     "name": "stdout",
     "output_type": "stream",
     "text": [
      "Probability of answering at least 1 correct with 60% skill: 1.0\n",
      "Probability of answering at least 2 correct with 60% skill: 1.0\n",
      "Probability of answering at least 3 correct with 60% skill: 1.0\n",
      "Probability of answering at least 4 correct with 60% skill: 1.0\n",
      "Probability of answering at least 5 correct with 60% skill: 1.0\n",
      "Probability of answering at least 6 correct with 60% skill: 0.99997\n",
      "Probability of answering at least 7 correct with 60% skill: 0.99972\n",
      "Probability of answering at least 8 correct with 60% skill: 0.99855\n",
      "Probability of answering at least 9 correct with 60% skill: 0.99285\n",
      "Probability of answering at least 10 correct with 60% skill: 0.97311\n",
      "Probability of answering at least 11 correct with 60% skill: 0.91908\n",
      "Probability of answering at least 12 correct with 60% skill: 0.79842\n",
      "Probability of answering at least 13 correct with 60% skill: 0.5958\n",
      "Probability of answering at least 14 correct with 60% skill: 0.34953\n",
      "Probability of answering at least 15 correct with 60% skill: 0.14024\n",
      "Probability of answering at least 16 correct with 60% skill: 0.02762\n"
     ]
    }
   ],
   "source": [
    "score = bond_knows(100000,skill=0.6,verbose=False)\n",
    "for i in range(1,17):\n",
    "    print(f\"Probability of answering at least {i} correct with 60% skill: {np.sum(score>=i)/100000}\")"
   ]
  }
 ],
 "metadata": {
  "kernelspec": {
   "display_name": "Python 3",
   "language": "python",
   "name": "python3"
  },
  "language_info": {
   "codemirror_mode": {
    "name": "ipython",
    "version": 3
   },
   "file_extension": ".py",
   "mimetype": "text/x-python",
   "name": "python",
   "nbconvert_exporter": "python",
   "pygments_lexer": "ipython3",
   "version": "3.7.0"
  }
 },
 "nbformat": 4,
 "nbformat_minor": 4
}
