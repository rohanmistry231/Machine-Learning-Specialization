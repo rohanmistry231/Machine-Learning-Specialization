{
 "cells": [
  {
   "cell_type": "markdown",
   "metadata": {},
   "source": [
    "# Interactive Machine Learning Demo - Logistic Regression"
   ]
  },
  {
   "cell_type": "code",
   "execution_count": 11,
   "metadata": {
    "collapsed": true
   },
   "outputs": [],
   "source": [
    "from ipywidgets import interact, interactive, IntSlider, Layout\n",
    "import ipywidgets as widgets\n",
    "from IPython.display import display\n",
    "\n",
    "import numpy as np\n",
    "import matplotlib.pyplot as plt\n",
    "#%matplotlib inline\n",
    "\n",
    "import pandas as pd"
   ]
  },
  {
   "cell_type": "markdown",
   "metadata": {
    "collapsed": true
   },
   "source": [
    "## Logistic Regression and Classficiation"
   ]
  },
  {
   "cell_type": "code",
   "execution_count": 12,
   "metadata": {
    "collapsed": true
   },
   "outputs": [],
   "source": [
    "from sklearn.linear_model import logistic\n",
    "from sklearn.model_selection import train_test_split"
   ]
  },
  {
   "cell_type": "markdown",
   "metadata": {},
   "source": [
    "### Function definition generating data points with noise and classifying"
   ]
  },
  {
   "cell_type": "code",
   "execution_count": 13,
   "metadata": {
    "collapsed": true
   },
   "outputs": [],
   "source": [
    "def func_log(N_samples,x_min,x_max,noise_magnitude,noise_sd,noise_mean):\n",
    "    x= np.linspace(x_min,x_max,N_samples*5)\n",
    "    x1= np.random.choice(x,size=N_samples)\n",
    "    x2= np.random.choice(x,size=N_samples)\n",
    "    y=1.5*x1-2*x2\n",
    "    yn= y+noise_magnitude*np.random.normal(loc=noise_mean,scale=noise_sd,size=N_samples)\n",
    "    \n",
    "    plt.figure(figsize=(8,5))\n",
    "    c = [i < 0 for i in y]\n",
    "    f, ax = plt.subplots(figsize=(8, 6))\n",
    "    #ax.contour(xx, yy, probs, levels=[.5], cmap=\"Greys\", vmin=0, vmax=.6)\n",
    "    ax.set_xlim(left=x_min*1.2,right=x_max*1.2)\n",
    "    ax.set_ylim(bottom=x_min*1.2,top=x_max*1.2)\n",
    "    ax.scatter(x1,x2,c=c,edgecolors='k',s=80)\n",
    "    plt.grid(True)\n",
    "    plt.show()\n",
    "    \n",
    "    return (np.array(x),np.array(y),np.array(yn),np.array(x1),np.array(x2))"
   ]
  },
  {
   "cell_type": "markdown",
   "metadata": {},
   "source": [
    "### Plot and interactively control the data points by calling ipywidget object"
   ]
  },
  {
   "cell_type": "code",
   "execution_count": 14,
   "metadata": {},
   "outputs": [
    {
     "data": {
      "application/vnd.jupyter.widget-view+json": {
       "model_id": "65f171ff3c134b7aba27863876f2f3d6",
       "version_major": 2,
       "version_minor": 0
      },
      "text/html": [
       "<p>Failed to display Jupyter Widget of type <code>interactive</code>.</p>\n",
       "<p>\n",
       "  If you're reading this message in the Jupyter Notebook or JupyterLab Notebook, it may mean\n",
       "  that the widgets JavaScript is still loading. If this message persists, it\n",
       "  likely means that the widgets JavaScript library is either not installed or\n",
       "  not enabled. See the <a href=\"https://ipywidgets.readthedocs.io/en/stable/user_install.html\">Jupyter\n",
       "  Widgets Documentation</a> for setup instructions.\n",
       "</p>\n",
       "<p>\n",
       "  If you're reading this message in another frontend (for example, a static\n",
       "  rendering on GitHub or <a href=\"https://nbviewer.jupyter.org/\">NBViewer</a>),\n",
       "  it may mean that your frontend doesn't currently support widgets.\n",
       "</p>\n"
      ],
      "text/plain": [
       "interactive(children=(Dropdown(description='N_samples', options={'Low (50 samples)': 50, 'High (200 samples)': 200}, value=50), IntSlider(value=-3, description='x_min', max=0, min=-5), IntSlider(value=2, description='x_max', max=5), IntSlider(value=2, description='noise_magnitude', max=5), FloatSlider(value=0.5, description='noise_sd', max=1.0, min=0.1), FloatSlider(value=0.0, description='noise_mean', max=2.0, min=-2.0, step=0.5), Output()), _dom_classes=('widget-interact',))"
      ]
     },
     "metadata": {},
     "output_type": "display_data"
    }
   ],
   "source": [
    "pl=interactive(func_log,N_samples={'Low (50 samples)':50,'High (200 samples)':200},x_min=(-5,0,1), x_max=(0,5,1),\n",
    "              noise_magnitude=(0,5,1),noise_sd=(0.1,1,0.1),noise_mean=(-2,2,0.5))\n",
    "display(pl)"
   ]
  },
  {
   "cell_type": "markdown",
   "metadata": {},
   "source": [
    "### Store the generated data"
   ]
  },
  {
   "cell_type": "code",
   "execution_count": 15,
   "metadata": {},
   "outputs": [
    {
     "data": {
      "text/html": [
       "<div>\n",
       "<style>\n",
       "    .dataframe thead tr:only-child th {\n",
       "        text-align: right;\n",
       "    }\n",
       "\n",
       "    .dataframe thead th {\n",
       "        text-align: left;\n",
       "    }\n",
       "\n",
       "    .dataframe tbody tr th {\n",
       "        vertical-align: top;\n",
       "    }\n",
       "</style>\n",
       "<table border=\"1\" class=\"dataframe\">\n",
       "  <thead>\n",
       "    <tr style=\"text-align: right;\">\n",
       "      <th></th>\n",
       "      <th>X1</th>\n",
       "      <th>X2</th>\n",
       "      <th>out</th>\n",
       "      <th>y</th>\n",
       "    </tr>\n",
       "  </thead>\n",
       "  <tbody>\n",
       "    <tr>\n",
       "      <th>0</th>\n",
       "      <td>1.738956</td>\n",
       "      <td>1.317269</td>\n",
       "      <td>0.488325</td>\n",
       "      <td>1</td>\n",
       "    </tr>\n",
       "    <tr>\n",
       "      <th>1</th>\n",
       "      <td>-2.016064</td>\n",
       "      <td>1.216867</td>\n",
       "      <td>-5.813883</td>\n",
       "      <td>0</td>\n",
       "    </tr>\n",
       "    <tr>\n",
       "      <th>2</th>\n",
       "      <td>-0.208835</td>\n",
       "      <td>1.638554</td>\n",
       "      <td>-4.710545</td>\n",
       "      <td>0</td>\n",
       "    </tr>\n",
       "    <tr>\n",
       "      <th>3</th>\n",
       "      <td>-2.257028</td>\n",
       "      <td>-1.212851</td>\n",
       "      <td>-1.716130</td>\n",
       "      <td>0</td>\n",
       "    </tr>\n",
       "    <tr>\n",
       "      <th>4</th>\n",
       "      <td>-1.975904</td>\n",
       "      <td>0.915663</td>\n",
       "      <td>-5.105407</td>\n",
       "      <td>0</td>\n",
       "    </tr>\n",
       "  </tbody>\n",
       "</table>\n",
       "</div>"
      ],
      "text/plain": [
       "         X1        X2       out  y\n",
       "0  1.738956  1.317269  0.488325  1\n",
       "1 -2.016064  1.216867 -5.813883  0\n",
       "2 -0.208835  1.638554 -4.710545  0\n",
       "3 -2.257028 -1.212851 -1.716130  0\n",
       "4 -1.975904  0.915663 -5.105407  0"
      ]
     },
     "execution_count": 15,
     "metadata": {},
     "output_type": "execute_result"
    }
   ],
   "source": [
    "xl,yl,ynl,x1l,x2l = pl.result\n",
    "dic = {'X1':x1l,'X2':x2l,'out':ynl}\n",
    "df = pd.DataFrame(data=dic)\n",
    "\n",
    "def boolean (x):\n",
    "    return int(x>0)\n",
    "df['y']=df['out'].apply(boolean)\n",
    "df.head()"
   ]
  },
  {
   "cell_type": "markdown",
   "metadata": {},
   "source": [
    "### Logistic regression encapsulated within a function"
   ]
  },
  {
   "cell_type": "code",
   "execution_count": 40,
   "metadata": {},
   "outputs": [],
   "source": [
    "def log_fit(C,test_size,penalty):\n",
    "    \n",
    "    X_train, X_test, y_train, y_test = train_test_split(df[['X1','X2']],df['y'],test_size=test_size,random_state=101)\n",
    "    \n",
    "    df_test=pd.DataFrame(X_test,columns=['X1','X2'])\n",
    "    df_test['y']=y_test\n",
    "    \n",
    "    df_train=pd.DataFrame(X_train,columns=['X1','X2'])\n",
    "    df_train['y']=y_train\n",
    "    \n",
    "    if (penalty=='L1 norm'):\n",
    "        logm = logistic.LogisticRegressionCV(Cs=[np.power(10,-C)],penalty='l1',solver='saga')\n",
    "    if (penalty=='L2 norm'):\n",
    "        logm = logistic.LogisticRegressionCV(Cs=[np.power(10,-C)],penalty='l2',solver='lbfgs')\n",
    "    \n",
    "    logm.fit(X_train,y_train)\n",
    "    \n",
    "    train_score = logm.score(X_train,y_train)\n",
    "    test_score = logm.score(X_test,y_test)\n",
    "    \n",
    "    xx, yy = np.mgrid[-5:5:.01, -5:5:.01]\n",
    "    grid = np.c_[xx.ravel(), yy.ravel()]\n",
    "    probs = logm.predict_proba(grid)[:, 1].reshape(xx.shape)\n",
    "        \n",
    "    c_test = [i for i in df_test['y']]\n",
    "    c_train = [i for i in df_train['y']]\n",
    "    \n",
    "    f, ax = plt.subplots(nrows=1,ncols=2,figsize=(15,7))\n",
    "    contour = ax[0].contourf(xx, yy, probs, 25, cmap=\"RdBu\",vmin=0, vmax=1)\n",
    "    ax1_c = f.colorbar(contour)\n",
    "    ax1_c.set_label(\"$Prob\\ (y = 1)$\",fontsize=15)\n",
    "    ax1_c.set_ticks([0, .25, .5, .75, 1])\n",
    "    ax[0].set_xlabel(\"$X_1$\",fontsize=15)\n",
    "    ax[0].set_ylabel(\"$X_2$\",fontsize=15)\n",
    "    ax[0].contour(xx, yy, probs, levels=[.5], cmap=\"Greys\", vmin=0, vmax=0.6,lw=3)\n",
    "    \n",
    "    ax[0].scatter(df_test['X1'],df_test['X2'],c=c_test,edgecolors='k',s=100)\n",
    "    ax[0].set_title(\"\\nTest score: %.3f\\n\"%(test_score),fontsize=20)\n",
    "    \n",
    "    contour = ax[1].contourf(xx, yy, probs, 25, cmap=\"RdBu\",vmin=0, vmax=1)\n",
    "    #ax2_c = f.colorbar(contour)\n",
    "    #ax2_c.set_label(\"$Prob\\ (y = 1)$\",fontsize=15)\n",
    "    #ax2_c.set_ticks([0, .25, .5, .75, 1])\n",
    "    ax[1].set_xlabel(\"$X_1$\",fontsize=15)\n",
    "    ax[1].set_ylabel(\"$X_2$\",fontsize=15)\n",
    "    ax[1].contour(xx, yy, probs, levels=[.5], cmap=\"Greys\", vmin=0, vmax=0.6,lw=3)\n",
    "    \n",
    "    ax[1].scatter(df_train['X1'],df_train['X2'],c=c_train,edgecolors='k',s=100)\n",
    "    ax[1].set_title(\"\\nTraining score: %.3f\\n\"%(train_score),fontsize=20)\n",
    "        \n",
    "    plt.grid(True)\n",
    "    plt.tight_layout()\n",
    "    plt.show()\n",
    "      \n",
    "    return (train_score,test_score)    "
   ]
  },
  {
   "cell_type": "markdown",
   "metadata": {},
   "source": [
    "### Run the encapsulated ML function with ipywidget interactive"
   ]
  },
  {
   "cell_type": "code",
   "execution_count": 42,
   "metadata": {
    "scrolled": false
   },
   "outputs": [
    {
     "data": {
      "application/vnd.jupyter.widget-view+json": {
       "model_id": "c60b5636b29249b9b220501dc1f5a4ae",
       "version_major": 2,
       "version_minor": 0
      },
      "text/html": [
       "<p>Failed to display Jupyter Widget of type <code>Label</code>.</p>\n",
       "<p>\n",
       "  If you're reading this message in the Jupyter Notebook or JupyterLab Notebook, it may mean\n",
       "  that the widgets JavaScript is still loading. If this message persists, it\n",
       "  likely means that the widgets JavaScript library is either not installed or\n",
       "  not enabled. See the <a href=\"https://ipywidgets.readthedocs.io/en/stable/user_install.html\">Jupyter\n",
       "  Widgets Documentation</a> for setup instructions.\n",
       "</p>\n",
       "<p>\n",
       "  If you're reading this message in another frontend (for example, a static\n",
       "  rendering on GitHub or <a href=\"https://nbviewer.jupyter.org/\">NBViewer</a>),\n",
       "  it may mean that your frontend doesn't currently support widgets.\n",
       "</p>\n"
      ],
      "text/plain": [
       "Label(value='Play with options and watch the probability space evolve dynamically. Remember, smaller the value of $C$, stronger the regularization strength')"
      ]
     },
     "metadata": {},
     "output_type": "display_data"
    },
    {
     "data": {
      "application/vnd.jupyter.widget-view+json": {
       "model_id": "0e71d78c5e184dfe91100fd4968fcddb",
       "version_major": 2,
       "version_minor": 0
      },
      "text/html": [
       "<p>Failed to display Jupyter Widget of type <code>interactive</code>.</p>\n",
       "<p>\n",
       "  If you're reading this message in the Jupyter Notebook or JupyterLab Notebook, it may mean\n",
       "  that the widgets JavaScript is still loading. If this message persists, it\n",
       "  likely means that the widgets JavaScript library is either not installed or\n",
       "  not enabled. See the <a href=\"https://ipywidgets.readthedocs.io/en/stable/user_install.html\">Jupyter\n",
       "  Widgets Documentation</a> for setup instructions.\n",
       "</p>\n",
       "<p>\n",
       "  If you're reading this message in another frontend (for example, a static\n",
       "  rendering on GitHub or <a href=\"https://nbviewer.jupyter.org/\">NBViewer</a>),\n",
       "  it may mean that your frontend doesn't currently support widgets.\n",
       "</p>\n"
      ],
      "text/plain": [
       "interactive(children=(FloatSlider(value=0.0, continuous_update=False, description='Regularization ($10^{-C}$), $C$', max=2.0, style=SliderStyle(description_width='initial')), FloatSlider(value=0.1, description='Test fraction ($X_{test}$)', max=0.5, min=0.1, style=SliderStyle(description_width='initial')), RadioButtons(description='Penalty norm', options=('L1 norm', 'L2 norm'), value='L1 norm'), Output(layout=Layout(height='500px', width='1000px'))), _dom_classes=('widget-interact',))"
      ]
     },
     "metadata": {},
     "output_type": "display_data"
    }
   ],
   "source": [
    "from ipywidgets import HBox, Label, FloatSlider\n",
    "\n",
    "style = {'description_width': 'initial'}\n",
    "\n",
    "lb1=Label (value=\"Play with options and watch the probability space evolve dynamically. \\\n",
    "Remember, smaller the value of $C$, stronger the regularization strength\",fontsize=15)\n",
    "\n",
    "logp=interactive(log_fit,C=FloatSlider(value=0,min=0,max=2,step=0.1,\n",
    "                                       description='Regularization ($10^{-C}$), $C$', style=style,continuous_update=False),\n",
    "                 test_size=FloatSlider(value=0.1,min=0.1,max=0.5,step=0.1,\n",
    "                                       description = 'Test fraction ($X_{test}$)', style=style),\n",
    "                penalty=widgets.RadioButtons(options=[\"L1 norm\",\"L2 norm\"], description = 'Penalty norm'))\n",
    "\n",
    "# Set the height of the control.children[-1] so that the output does not jump and flicker\n",
    "output = logp.children[-1]\n",
    "output.layout.height = '500px'\n",
    "output.layout.width = '1000px'\n",
    "\n",
    "display(lb1)\n",
    "display(logp)"
   ]
  },
  {
   "cell_type": "code",
   "execution_count": null,
   "metadata": {
    "collapsed": true
   },
   "outputs": [],
   "source": []
  }
 ],
 "metadata": {
  "kernelspec": {
   "display_name": "Python 3",
   "language": "python",
   "name": "python3"
  },
  "language_info": {
   "codemirror_mode": {
    "name": "ipython",
    "version": 3
   },
   "file_extension": ".py",
   "mimetype": "text/x-python",
   "name": "python",
   "nbconvert_exporter": "python",
   "pygments_lexer": "ipython3",
   "version": "3.6.2"
  }
 },
 "nbformat": 4,
 "nbformat_minor": 2
}
